{
  "cells": [
    {
      "cell_type": "code",
      "execution_count": null,
      "metadata": {
        "id": "0QDa4YAZAdtG"
      },
      "outputs": [],
      "source": [
        "import pandas as pd\n",
        "import flair\n",
        "from tqdm import tqdm"
      ]
    },
    {
      "cell_type": "code",
      "execution_count": null,
      "metadata": {
        "id": "8teEGHgKBMF8"
      },
      "outputs": [],
      "source": [
        "reddit_2021 = pd.read_csv(\"Reddit-Threads_2020-2021.csv\", engine=\"python\")\n",
        "reddit_2223 = pd.read_csv(\"Reddit-Threads_2022-2023.csv\", engine=\"python\")"
      ]
    },
    {
      "cell_type": "code",
      "execution_count": null,
      "metadata": {
        "id": "A4vUTNw7H_kg"
      },
      "outputs": [],
      "source": [
        "# removing all rows with deleted usernames (deleted usernames have deleted comments)\n",
        "reddit_2021 = reddit_2021[reddit_2021['username'] != '[deleted]']\n",
        "reddit_2223 = reddit_2223[reddit_2223['username'] != '[deleted]']"
      ]
    },
    {
      "cell_type": "code",
      "execution_count": null,
      "metadata": {
        "id": "9hmp-usIVvug"
      },
      "outputs": [],
      "source": [
        "# removing empty strings\n",
        "reddit_2021 = reddit_2021[reddit_2021['text'].notna() & (reddit_2021['text'].str.strip() != '')]\n",
        "reddit_2223 = reddit_2223[reddit_2223['text'].notna() & (reddit_2223['text'].str.strip() != '')]"
      ]
    },
    {
      "cell_type": "code",
      "source": [
        "# Remove entries that contain any characters other than letters, digits and acceptable punctuation\n",
        "reddit_2021 = reddit_2021[~reddit_2021['text'].str.contains(r'[^a-zA-Z0-9\\s.,!?\\'\"()\\\\-_]', na=False)]\n",
        "reddit_2223 = reddit_2223[~reddit_2223['text'].str.contains(r'[^a-zA-Z0-9\\s.,!?\\'\"()\\\\-_]', na=False)]"
      ],
      "metadata": {
        "id": "T1vt7dr2338B"
      },
      "execution_count": null,
      "outputs": []
    },
    {
      "cell_type": "code",
      "source": [
        "# data subsetting - 20% of original data\n",
        "from sklearn.model_selection import train_test_split\n",
        "\n",
        "reddit_2021 = reddit_2021.dropna()\n",
        "train, sample_2021 = train_test_split(reddit_2021, test_size=0.2, stratify=reddit_2021['subreddit_id'], random_state=42)\n",
        "\n",
        "reddit_2223 = reddit_2223.dropna()\n",
        "train, sample_2223 = train_test_split(reddit_2223, test_size=0.2, stratify=reddit_2223['subreddit_id'], random_state=42)"
      ],
      "metadata": {
        "id": "WKZqJ_ONXpOl"
      },
      "execution_count": null,
      "outputs": []
    },
    {
      "cell_type": "code",
      "source": [
        "# Save final_sample as a CSV file\n",
        "sample_2021.to_csv('sample_2021.csv', index=False)\n",
        "sample_2223.to_csv('sample_2223.csv', index=False)"
      ],
      "metadata": {
        "id": "P96BYdKWMERY"
      },
      "execution_count": null,
      "outputs": []
    }
  ],
  "metadata": {
    "colab": {
      "provenance": []
    },
    "kernelspec": {
      "display_name": "Python 3",
      "name": "python3"
    },
    "language_info": {
      "name": "python"
    }
  },
  "nbformat": 4,
  "nbformat_minor": 0
}